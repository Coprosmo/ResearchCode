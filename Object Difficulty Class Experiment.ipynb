{
 "cells": [
  {
   "cell_type": "code",
   "execution_count": 149,
   "metadata": {},
   "outputs": [],
   "source": [
    "import matplotlib.pyplot as plt\n",
    "import numpy as np\n",
    "import pandas as pd\n",
    "import sklearn as sk\n",
    "import sklearn.tree as tree\n",
    "\n",
    "from sklearn.ensemble import RandomForestClassifier\n",
    "from sklearn import svm, preprocessing\n",
    "from sklearn.model_selection import train_test_split\n",
    "from sklearn.tree import DecisionTreeClassifier, export_graphviz\n",
    "from sklearn.naive_bayes import GaussianNB, MultinomialNB, CategoricalNB, ComplementNB\n",
    "from sklearn.metrics import confusion_matrix\n",
    "from sklearn.linear_model import LinearRegression\n",
    "\n",
    "import math\n",
    "import random\n",
    "from tqdm import tqdm, trange\n",
    "\n",
    "import seaborn as sns\n",
    "\n",
    "seed = 42\n",
    "\n",
    "random.seed(seed)"
   ]
  },
  {
   "cell_type": "code",
   "execution_count": 150,
   "metadata": {},
   "outputs": [
    {
     "data": {
      "text/plain": [
       "11020"
      ]
     },
     "execution_count": 150,
     "metadata": {},
     "output_type": "execute_result"
    }
   ],
   "source": [
    "# Load data\n",
    "df = pd.read_csv('extracted_real_length.dataset')\n",
    "features = df.columns[:8]\n",
    "targets = df.target\n",
    "\n",
    "\n",
    "# Set target for any example with target > 20, to 20\n",
    "df.loc[df.target > 21] = 21\n",
    "\n",
    "\n",
    "# Reduce size of each class to be uniform, matching the size of the minimum class (583)\n",
    "M = [df.loc[df.target == i][:551] for i in range(1,21)]\n",
    "df = pd.concat(M).reset_index()\n",
    "\n",
    "len(df)"
   ]
  },
  {
   "cell_type": "code",
   "execution_count": 151,
   "metadata": {},
   "outputs": [
    {
     "name": "stdout",
     "output_type": "stream",
     "text": [
      "       index  nodes  nodes_merged  distinct_features  functions  lambdas  \\\n",
      "0          0     63            25                 11         10        0   \n",
      "1          2     15            10                  8          2        0   \n",
      "2          5     39            20                 10          6        0   \n",
      "3          6     15            12                  9          2        0   \n",
      "4         10     39            20                 10          6        0   \n",
      "...      ...    ...           ...                ...        ...      ...   \n",
      "11015  49658    261            83                 27         49        1   \n",
      "11016  49704    451           107                 28         72        5   \n",
      "11017  49725    167            55                 20         28        2   \n",
      "11018  49786    125            42                 18         21        1   \n",
      "11019  49932    327            88                 27         50        4   \n",
      "\n",
      "       applications  variables  constants  target  \n",
      "0                10          6          5       1  \n",
      "1                 2          2          1       1  \n",
      "2                 6          4          3       1  \n",
      "3                 2          2          1       1  \n",
      "4                 6          4          3       1  \n",
      "...             ...        ...        ...     ...  \n",
      "11015            28          6         24      20  \n",
      "11016            47         24         29      20  \n",
      "11017            16          9          8      20  \n",
      "11018            10          7          5      20  \n",
      "11019            33         14         24      20  \n",
      "\n",
      "[11020 rows x 10 columns]\n"
     ]
    }
   ],
   "source": [
    "# Normalize data and split into train/test sets\n",
    "print(df)\n",
    "df_without_targets = df.drop('target', axis=1)\n",
    "x = df_without_targets.values\n",
    "scaler = preprocessing.MinMaxScaler()\n",
    "scaled_x = scaler.fit_transform(x)\n",
    "\n",
    "targets = df.target\n",
    "# df = pd.DataFrame(data=scaled_x, columns=df_without_targets.columns)\n",
    "# df['target'] = targets\n",
    "\n",
    "# X_train, X_test, Y_train, Y_test = train_test_split(df[features], targets, shuffle=True, random_state=seed)\n",
    "# len(X_train), len(X_test)"
   ]
  },
  {
   "cell_type": "code",
   "execution_count": 154,
   "metadata": {},
   "outputs": [],
   "source": [
    "X_train, X_test = [], []\n",
    "Y_train, Y_test = [], []\n",
    "count = 0\n",
    "current_var = 0\n",
    "for i, (x, y) in enumerate(zip(scaled_x, df.target)):\n",
    "    if y != current_var:\n",
    "        current_var = y\n",
    "        count = 0\n",
    "        \n",
    "    if count % 4 < 3:\n",
    "        X_train.append(x)\n",
    "        Y_train.append(y)\n",
    "    else:\n",
    "        X_test.append(x)\n",
    "        Y_test.append(y)\n",
    "        \n",
    "    count += 1"
   ]
  },
  {
   "cell_type": "code",
   "execution_count": 123,
   "metadata": {},
   "outputs": [
    {
     "data": {
      "text/plain": [
       "137.0"
      ]
     },
     "execution_count": 123,
     "metadata": {},
     "output_type": "execute_result"
    }
   ],
   "source": [
    "len(Y_test)/20"
   ]
  },
  {
   "cell_type": "code",
   "execution_count": 124,
   "metadata": {},
   "outputs": [
    {
     "data": {
      "text/plain": [
       "(137, 414)"
      ]
     },
     "execution_count": 124,
     "metadata": {},
     "output_type": "execute_result"
    }
   ],
   "source": [
    "sum((x for x in Y_test if x == 1)), 551 - 137"
   ]
  },
  {
   "cell_type": "code",
   "execution_count": 155,
   "metadata": {
    "scrolled": true
   },
   "outputs": [
    {
     "name": "stderr",
     "output_type": "stream",
     "text": [
      "100%|██████████| 19/19 [00:26<00:00,  1.39s/it]\n"
     ]
    }
   ],
   "source": [
    "accuracies = []\n",
    "counts = []\n",
    "\n",
    "for i in trange(2, 21):\n",
    "    # Relabel data according to current split\n",
    "    temp_Y_train = [0 if y < i else 1 for y in Y_train]\n",
    "    temp_Y_test = [0 if y < i else 1 for y in Y_test]\n",
    "    \n",
    "    \n",
    "    # Train decision tree on data\n",
    "#     decision_tree = DecisionTreeClassifier(min_samples_split=20, max_depth=3, criterion='entropy', random_state=42)\n",
    "#     decision_tree.fit(X_train, temp_Y_train)\n",
    "#     preds = decision_tree.predict(X_test)\n",
    "\n",
    "    nbc = svm.SVC()\n",
    "# #     nbc = ComplementNB()\n",
    "    nbc.fit(X_train, temp_Y_train)\n",
    "    preds = nbc.predict(X_test)\n",
    "    counts.append(sum(preds))\n",
    "    \n",
    "    acc = sum((preds == temp_Y_test))/len(temp_Y_test)\n",
    "    accuracies.append(acc)"
   ]
  },
  {
   "cell_type": "code",
   "execution_count": 125,
   "metadata": {},
   "outputs": [
    {
     "name": "stdout",
     "output_type": "stream",
     "text": [
      "{1: 414, 2: 414, 3: 414, 4: 414, 5: 414, 6: 414, 7: 414, 8: 414, 9: 414, 10: 414, 11: 414, 12: 414, 13: 414, 14: 414, 15: 414, 16: 414, 17: 414, 18: 414, 19: 414, 20: 414}\n",
      "{1: 137, 2: 137, 3: 137, 4: 137, 5: 137, 6: 137, 7: 137, 8: 137, 9: 137, 10: 137, 11: 137, 12: 137, 13: 137, 14: 137, 15: 137, 16: 137, 17: 137, 18: 137, 19: 137, 20: 137}\n"
     ]
    }
   ],
   "source": [
    "counter = dict()\n",
    "for y in Y_train:\n",
    "    if y in counter:\n",
    "        counter[y] += 1\n",
    "    else:\n",
    "        counter[y] = 1\n",
    "print(counter)\n",
    "\n",
    "counter = dict()\n",
    "for y in Y_test:\n",
    "    if y in counter:\n",
    "        counter[y] += 1\n",
    "    else:\n",
    "        counter[y] = 1\n",
    "print(counter)"
   ]
  },
  {
   "cell_type": "code",
   "execution_count": 160,
   "metadata": {},
   "outputs": [
    {
     "name": "stderr",
     "output_type": "stream",
     "text": [
      "100%|██████████| 19/19 [00:00<00:00, 34.56it/s]\n"
     ]
    }
   ],
   "source": [
    "accuracies = []\n",
    "counts = []\n",
    "\n",
    "for i in trange(1, 20):\n",
    "    # Relabel data according to current split\n",
    "#     temp_Y_train = [0 if y < i else 1 for y in Y_train]\n",
    "#     temp_Y_test = [0 if y < i else 1 for y in Y_test]\n",
    "    \n",
    "    temp_Y_train = Y_train[(i - 1)*414:(i+1)*414]\n",
    "    temp_Y_test = Y_test[(i-1)*137:(i+1)*137]\n",
    "    temp_X_train = X_train[(i - 1)*414:(i+1)*414]\n",
    "    temp_X_test = X_test[(i-1)*137:(i+1)*137]\n",
    "    \n",
    "    # Train decision tree on data\n",
    "    decision_tree = DecisionTreeClassifier(min_samples_split=20, max_depth=3, criterion='entropy', random_state=42)\n",
    "    decision_tree.fit(temp_X_train, temp_Y_train)\n",
    "    preds = decision_tree.predict(temp_X_test)\n",
    "\n",
    "#     nbc = svm.SVC()\n",
    "#     nbc = ComplementNB()\n",
    "#     nbc.fit(temp_X_train, temp_Y_train)\n",
    "#     preds = nbc.predict(temp_X_test)\n",
    "    counts.append(sum(preds))\n",
    "    acc = sum((preds == temp_Y_test))/len(temp_Y_test)\n",
    "    accuracies.append(acc)"
   ]
  },
  {
   "cell_type": "code",
   "execution_count": 161,
   "metadata": {},
   "outputs": [
    {
     "data": {
      "image/png": "[encoded data removed]",
      "text/plain": [
       "<Figure size 900x360 with 1 Axes>"
      ]
     },
     "metadata": {
      "needs_background": "light"
     },
     "output_type": "display_data"
    }
   ],
   "source": [
    "results_df = pd.DataFrame(data={'Threshold': [i+0.5 for i in range(1,20)], 'Accuracy': accuracies})\n",
    "ax = sns.relplot(x=\"Threshold\", y=\"Accuracy\", kind=\"line\", data=results_df, aspect=2.5)\n",
    "ax.set(xlim=(0,20))\n",
    "plt.xticks(np.arange(0.5, 19.5, 1.0))\n",
    "plt.show()"
   ]
  },
  {
   "cell_type": "code",
   "execution_count": 135,
   "metadata": {},
   "outputs": [
    {
     "data": {
      "image/png": "[encoded data removed]",
      "text/plain": [
       "<Figure size 900x360 with 1 Axes>"
      ]
     },
     "metadata": {
      "needs_background": "light"
     },
     "output_type": "display_data"
    }
   ],
   "source": [
    "results_df = pd.DataFrame(data={'Threshold': [i for i in range(2,21)], 'Num 1 guesses': counts})\n",
    "ax = sns.relplot(x=\"Threshold\", y=\"Num 1 guesses\", kind=\"line\", data=results_df, aspect=2.5)\n",
    "ax.set(xlim=(1,21))\n",
    "plt.xticks(np.arange(1, 21, 1.0))\n",
    "plt.show()"
   ]
  },
  {
   "cell_type": "code",
   "execution_count": null,
   "metadata": {},
   "outputs": [],
   "source": []
  }
 ],
 "metadata": {
  "kernelspec": {
   "display_name": "Python 3",
   "language": "python",
   "name": "python3"
  },
  "language_info": {
   "codemirror_mode": {
    "name": "ipython",
    "version": 3
   },
   "file_extension": ".py",
   "mimetype": "text/x-python",
   "name": "python",
   "nbconvert_exporter": "python",
   "pygments_lexer": "ipython3",
   "version": "3.8.5"
  }
 },
 "nbformat": 4,
 "nbformat_minor": 4
}
