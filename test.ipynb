{
 "cells": [
  {
   "cell_type": "code",
   "execution_count": 1,
   "metadata": {},
   "outputs": [],
   "source": [
    "import utilities as u\n",
    "import torch\n",
    "from torch_geometric.data import Data, InMemoryDataset, DataLoader"
   ]
  },
  {
   "cell_type": "code",
   "execution_count": 13,
   "metadata": {},
   "outputs": [],
   "source": [
    "class TopLevelProofDataset(InMemoryDataset):\n",
    "    def __init__(self, root='', transform=None, pre_transform=None):\n",
    "        super(TopLevelProofDataset, self).__init__(root, transform, pre_transform)\n",
    "        self.data, self.slices = torch.load(self.processed_paths[0])\n",
    "        \n",
    "    @property\n",
    "    def raw_file_names(self):\n",
    "        return []\n",
    "    \n",
    "    @property\n",
    "    def processed_file_names(self):\n",
    "        return ['../top_level_proofs_0.dataset']\n",
    "    \n",
    "    def download(self):\n",
    "        pass\n",
    "    \n",
    "    def process(self):\n",
    "        data_list = []\n",
    "        \n",
    "        for thm, y in datapoints:\n",
    "            thm = u.process_theorem(thm)\n",
    "            tree, distinct_features = u.thm_to_tree(thm)\n",
    "            \n",
    "            x, edge_index = u.graph_to_data(tree, list(distinct_features))\n",
    "            \n",
    "            data = Data(x=x, edge_index=edge_index, y=y)\n",
    "            data_list.append(data)\n",
    "        \n",
    "        data, slices = self.collate(data_list)\n",
    "        torch.save((data, slices), self.processed_paths[0])"
   ]
  },
  {
   "cell_type": "code",
   "execution_count": 3,
   "metadata": {},
   "outputs": [
    {
     "name": "stdout",
     "output_type": "stream",
     "text": [
      "(fun (a A B) (a A (a A B)))\n",
      "['(', 'fun', '(', 'a', 'A', 'B', ')', '(', 'a', 'A', '(', 'a', 'A', 'B', ')', ')', ')']\n",
      "(<utilities.data_structures.Tree object at 0x7f0a2c655510>, {'A', 'a', 'B', 'fun'})\n"
     ]
    }
   ],
   "source": [
    "test_thm = '(fun (a A B) (a A (a A B)))'\n",
    "print(test_thm)\n",
    "thm = u.process_theorem(test_thm)\n",
    "print(thm)\n",
    "thm_tree = u.thm_to_tree(thm)\n",
    "print(thm_tree)"
   ]
  },
  {
   "cell_type": "code",
   "execution_count": 6,
   "metadata": {},
   "outputs": [
    {
     "name": "stdout",
     "output_type": "stream",
     "text": [
      "0\n"
     ]
    }
   ],
   "source": [
    "datapoints = u.make_data()\n",
    "datapoints = datapoints[0:2]"
   ]
  },
  {
   "cell_type": "code",
   "execution_count": 7,
   "metadata": {},
   "outputs": [
    {
     "name": "stdout",
     "output_type": "stream",
     "text": [
      "0 / 2\n"
     ]
    }
   ],
   "source": [
    "for idx, (thm, _) in enumerate(datapoints):\n",
    "    if idx % 1000 == 0:\n",
    "        print(f'{idx} / {len(datapoints)}')\n",
    "    thm = u.process_theorem(thm)"
   ]
  },
  {
   "cell_type": "code",
   "execution_count": 14,
   "metadata": {},
   "outputs": [
    {
     "name": "stdout",
     "output_type": "stream",
     "text": [
      "Processing...\n",
      "Done!\n",
      "TopLevelProofDataset(2)\n",
      "Batch(batch=[43], edge_index=[2, 84], x=[43, 1], y=[1])\n",
      "Batch(batch=[115], edge_index=[2, 228], x=[115, 1], y=[1])\n"
     ]
    }
   ],
   "source": [
    "dataset = TopLevelProofDataset()\n",
    "print(dataset)\n",
    "loader = DataLoader(dataset, batch_size=1, shuffle=True)\n",
    "for batch in loader:\n",
    "    print(batch)"
   ]
  },
  {
   "cell_type": "code",
   "execution_count": 15,
   "metadata": {},
   "outputs": [
    {
     "data": {
      "text/plain": [
       "[(1, 50.0), (2, 50.0)]"
      ]
     },
     "execution_count": 15,
     "metadata": {},
     "output_type": "execute_result"
    }
   ],
   "source": [
    "counter = dict()\n",
    "for _, y in datapoints:\n",
    "    if y in counter:\n",
    "        counter[y] += 1\n",
    "    else:\n",
    "        counter[y] = 1\n",
    "counter = list(counter.items())\n",
    "counter.sort(key=lambda x: x[1], reverse=True)\n",
    "percentages = [(x, y/len(datapoints)*100) for x,y in counter]\n",
    "percentages"
   ]
  },
  {
   "cell_type": "code",
   "execution_count": null,
   "metadata": {},
   "outputs": [],
   "source": []
  }
 ],
 "metadata": {
  "kernelspec": {
   "display_name": "Python 3",
   "language": "python",
   "name": "python3"
  },
  "language_info": {
   "codemirror_mode": {
    "name": "ipython",
    "version": 3
   },
   "file_extension": ".py",
   "mimetype": "text/x-python",
   "name": "python",
   "nbconvert_exporter": "python",
   "pygments_lexer": "ipython3",
   "version": "3.7.7"
  }
 },
 "nbformat": 4,
 "nbformat_minor": 4
}
