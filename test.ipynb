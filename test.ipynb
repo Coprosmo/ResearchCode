{
 "cells": [
  {
   "cell_type": "code",
   "execution_count": 1,
   "metadata": {},
   "outputs": [
    {
     "data": {
      "text/plain": [
       "<torch._C.Generator at 0x7f58b809c3b0>"
      ]
     },
     "execution_count": 1,
     "metadata": {},
     "output_type": "execute_result"
    }
   ],
   "source": [
    "import utilities as u\n",
    "\n",
    "import torch\n",
    "import torch.nn as nn\n",
    "from torch_geometric.data import Data, InMemoryDataset, DataLoader\n",
    "from torch.utils.tensorboard import SummaryWriter\n",
    "from torch.nn import Embedding\n",
    "\n",
    "import numpy as np\n",
    "# import seaborn as sns\n",
    "import pandas as pd\n",
    "\n",
    "from math import floor\n",
    "import pickle\n",
    "import random\n",
    "from tqdm import tqdm\n",
    "\n",
    "torch.manual_seed(42)"
   ]
  },
  {
   "cell_type": "code",
   "execution_count": 2,
   "metadata": {},
   "outputs": [],
   "source": [
    "# EXPNAME = 'test_adding_edge_features'\n",
    "EXPNAME = 'bug_fix'\n",
    "binary = True\n",
    "only_top = True"
   ]
  },
  {
   "cell_type": "code",
   "execution_count": 3,
   "metadata": {},
   "outputs": [],
   "source": [
    "def save_model(model, PATH):\n",
    "    torch.save(model.state_dict(), PATH)\n",
    "    \n",
    "def load_model(model_type, PATH):\n",
    "    model = model_type()\n",
    "    model.load_state_dict(torch.load(PATH))\n",
    "    return model"
   ]
  },
  {
   "cell_type": "markdown",
   "metadata": {},
   "source": [
    "# Define Dataset"
   ]
  },
  {
   "cell_type": "code",
   "execution_count": 4,
   "metadata": {},
   "outputs": [],
   "source": [
    "class TopLevelProofDataset(InMemoryDataset):\n",
    "    def __init__(self, root='', transform=None, pre_transform=None):\n",
    "        super(TopLevelProofDataset, self).__init__(root, transform, pre_transform)\n",
    "        self.data, self.slices = torch.load(self.processed_paths[0])\n",
    "        \n",
    "    @property\n",
    "    def raw_file_names(self):\n",
    "        return []\n",
    "    \n",
    "    @property\n",
    "    def processed_file_names(self):\n",
    "        return [f'../testing_dataset.dataset']\n",
    "    \n",
    "    def download(self):\n",
    "        pass\n",
    "    \n",
    "    def process(self):\n",
    "        global data\n",
    "        data_list = []\n",
    "        all_features = set()\n",
    "        trees = []\n",
    "        \n",
    "        for thm, y in tqdm(data):\n",
    "            thm = u.process_theorem(thm)\n",
    "            tree, distinct_features = u.thm_to_tree(thm)\n",
    "            all_features = all_features | distinct_features\n",
    "            trees.append((tree, y))\n",
    "        \n",
    "#         normalized_features = {k: [random.random() for i in range(128)] for k in list(all_features)}\n",
    "        normalized_features = {k: [i] for i,k in enumerate(all_features)}\n",
    "            \n",
    "        for tree, y in tqdm(trees):\n",
    "            merged_tree = u.merge_subexpressions(tree)\n",
    "            x, (edge_index_up, edge_index_down), (edge_features_up, edge_features_down) = u.graph_to_data(tree, \n",
    "                                                                                                           normalized_features)\n",
    "            data = Data(x=x, \n",
    "                        y=y, \n",
    "                        edge_index=torch.cat((edge_index_up, edge_index_down), dim=1),\n",
    "                        edge_attr=torch.cat((edge_features_up, edge_features_down)),\n",
    "                       )\n",
    "            data_list.append(data)\n",
    "            \n",
    "        \n",
    "        data, slices = self.collate(data_list)\n",
    "        torch.save((data, slices), self.processed_paths[0])"
   ]
  },
  {
   "cell_type": "markdown",
   "metadata": {},
   "source": [
    "# SAGEConv Layer"
   ]
  },
  {
   "cell_type": "code",
   "execution_count": 5,
   "metadata": {},
   "outputs": [],
   "source": [
    "from torch.nn import Sequential as Seq, Linear, ReLU\n",
    "from torch_geometric.nn import MessagePassing\n",
    "from torch_geometric.utils import remove_self_loops, add_self_loops\n",
    "\n",
    "class SAGEConv(MessagePassing):\n",
    "    def __init__(self, in_channels, out_channels):\n",
    "        super(SAGEConv, self).__init__(aggr='mean') #  \"Max\" aggregation.\n",
    "        self.lin = torch.nn.Linear(in_channels, out_channels)\n",
    "        self.act = torch.nn.ReLU()\n",
    "        self.update_lin = torch.nn.Linear(in_channels + out_channels, in_channels, bias=False)\n",
    "        self.update_act = torch.nn.ReLU()\n",
    "        \n",
    "    def forward(self, x, edge_index):\n",
    "        # x has shape [N, in_channels]\n",
    "        # edge_index has shape [2, E]\n",
    "        \n",
    "        \n",
    "        edge_index, _ = remove_self_loops(edge_index)\n",
    "        edge_index, _ = add_self_loops(edge_index, num_nodes=x.size(0))\n",
    "        \n",
    "        return self.propagate(edge_index, size=(x.size(0), x.size(0)), x=x)\n",
    "\n",
    "    def message(self, x_j):\n",
    "        # x_j has shape [E, in_channels]\n",
    "\n",
    "        x_j = self.lin(x_j)\n",
    "        x_j = self.act(x_j)\n",
    "        \n",
    "        return x_j\n",
    "\n",
    "    def update(self, aggr_out, x):\n",
    "        # aggr_out has shape [N, out_channels]\n",
    "\n",
    "\n",
    "        new_embedding = torch.cat([aggr_out, x], dim=1)\n",
    "        \n",
    "        new_embedding = self.update_lin(new_embedding)\n",
    "        new_embedding = self.update_act(new_embedding)\n",
    "        \n",
    "        return new_embedding"
   ]
  },
  {
   "cell_type": "markdown",
   "metadata": {},
   "source": [
    "# GNN definition"
   ]
  },
  {
   "cell_type": "code",
   "execution_count": 6,
   "metadata": {},
   "outputs": [],
   "source": [
    "embed_dim = 128\n",
    "from torch_geometric.nn import TopKPooling, GCNConv\n",
    "from torch_geometric.nn import global_mean_pool as gap, global_max_pool as gmp\n",
    "import torch.nn.functional as F\n",
    "class Net(torch.nn.Module):\n",
    "    def __init__(self):\n",
    "        super(Net, self).__init__()\n",
    "        \n",
    "        self.conv1 = SAGEConv(dataset.num_features, embed_dim)\n",
    "#         self.conv1 = GCNConv(embed_dim, 128)\n",
    "#         self.embedding = torch.nn.Embedding(num_embeddings=len(distinct_features)+1, embedding_dim=embed_dim)\n",
    "        self.pool1 = TopKPooling(128, ratio=0.8)\n",
    "        self.conv2 = GCNConv(128, 128)\n",
    "        self.pool2 = TopKPooling(128, ratio=0.8)\n",
    "        self.conv3 = GCNConv(128, 128)\n",
    "        self.pool3 = TopKPooling(128, ratio=0.8)\n",
    "        self.lin1 = torch.nn.Linear(256, 128)\n",
    "        self.lin2 = torch.nn.Linear(128, 64)\n",
    "        self.lin3 = torch.nn.Linear(64, 11)\n",
    "        self.lin4 = torch.nn.Linear(64, 1)\n",
    "        self.bn1 = torch.nn.BatchNorm1d(128)\n",
    "        self.bn2 = torch.nn.BatchNorm1d(64)\n",
    "        self.act1 = torch.nn.ReLU()\n",
    "        self.act2 = torch.nn.ReLU()  \n",
    "  \n",
    "    def forward(self, data):\n",
    "        x, edge_index, batch = data.x, data.edge_index, data.batch    \n",
    "\n",
    "        x = self.conv1(x, edge_index)\n",
    "        x = F.relu(x)\n",
    "\n",
    "        x, edge_index, _, batch, _, _ = self.pool1(x, edge_index, None, batch)\n",
    "        x1 = torch.cat([gmp(x, batch), gap(x, batch)], dim=1)\n",
    "#         x = x1\n",
    "\n",
    "        x = F.relu(self.conv2(x, edge_index))\n",
    "     \n",
    "        x, edge_index, _, batch, _, _ = self.pool2(x, edge_index, None, batch)\n",
    "        x2 = torch.cat([gmp(x, batch), gap(x, batch)], dim=1)\n",
    "\n",
    "        x = F.relu(self.conv3(x, edge_index))\n",
    "\n",
    "        x, edge_index, _, batch, _, _ = self.pool3(x, edge_index, None, batch)\n",
    "        x3 = torch.cat([gmp(x, batch), gap(x, batch)], dim=1)\n",
    "\n",
    "        x = x1 + x2 + x3\n",
    "\n",
    "        x = self.lin1(x)\n",
    "        x = self.act1(x)\n",
    "        x = self.lin2(x)\n",
    "        x = self.act2(x)      \n",
    "        x = F.dropout(x, p=0.5, training=self.training)\n",
    "        x = F.relu(self.lin4(x))\n",
    "\n",
    "#         x = F.log_softmax(self.lin3(x), dim=1).squeeze(1)\n",
    "\n",
    "\n",
    "        return x"
   ]
  },
  {
   "cell_type": "markdown",
   "metadata": {},
   "source": [
    "# Model 2 (Subgraph Pooling Paper)"
   ]
  },
  {
   "cell_type": "code",
   "execution_count": 7,
   "metadata": {},
   "outputs": [],
   "source": [
    "from torch.nn import Sequential as Seq, Linear, ReLU\n",
    "from torch_geometric.nn import MessagePassing\n",
    "from torch_geometric.utils import remove_self_loops, add_self_loops\n",
    "\n",
    "class PaliwalMP(MessagePassing):\n",
    "    def __init__(self, in_channels, out_channels):\n",
    "        super(PaliwalMP, self).__init__(aggr='mean', flow='target_to_source') #  \"Mean\" aggregation.\n",
    "        \n",
    "        # MLP for Parents and Children, step 2 of Paliwal MP\n",
    "        self.MLP_edge = BuildingBlock(3*128, 128)\n",
    "        self.MLP_edge_hat = BuildingBlock(3*128, 128)\n",
    "        \n",
    "        # MLP to pass aggregated message through, step 3 of Paliwal MP\n",
    "        self.MLP_aggr = BuildingBlock(3*128, 128)\n",
    "\n",
    "        \n",
    "    def forward(self, x, edge_index_parents, edge_index_children, edge_attr_parents, edge_attr_children):\n",
    "        # x has shape [N, in_channels]\n",
    "        # edge_index_x has shape [2, E/2]\n",
    "        out_parents = self.propagate(edge_index_parents, \n",
    "                                     x=x, \n",
    "                                     edge_attr=edge_attr_parents, \n",
    "                                     direction='up', \n",
    "                                     size=None)\n",
    "        out_children = self.propagate(edge_index_children, \n",
    "                                      x=x, \n",
    "                                      edge_attr=edge_attr_children, \n",
    "                                      direction='down', \n",
    "                                      size=None)\n",
    "        \n",
    "        out = torch.cat([x, out_parents, out_children], dim=1)\n",
    "        out = self.MLP_aggr(out) + x\n",
    "        \n",
    "        \n",
    "        return out\n",
    "\n",
    "    \n",
    "    def message(self, x_i, x_j, edge_attr, direction):\n",
    "\n",
    "        s_ij = torch.cat([x_i, x_j, edge_attr], dim=1)\n",
    "        if direction == 'up':\n",
    "            s_ij = self.MLP_edge(s_ij)\n",
    "        elif direction == 'down':\n",
    "            s_ij = self.MLP_edge_hat(s_ij)\n",
    "        \n",
    "        return s_ij\n",
    "\n",
    "    \n",
    "    def update(self, aggr_out, x):\n",
    "        # aggr_out has shape [N, out_channels]\n",
    "        return aggr_out\n"
   ]
  },
  {
   "cell_type": "code",
   "execution_count": 8,
   "metadata": {},
   "outputs": [],
   "source": [
    "from torch_geometric.nn import global_max_pool as gmp\n",
    "\n",
    "embed_dim = 128\n",
    "\n",
    "# TODO: Apply dropout\n",
    "\n",
    "class BuildingBlock(torch.nn.Module):\n",
    "    def __init__(self, in_channels, out_channels, dim=0):\n",
    "        super(BuildingBlock, self).__init__()\n",
    "        self.lin1 = Linear(in_channels, 256, dim)\n",
    "        self.hidden = Linear(256, 128)\n",
    "        self.lin2 = Linear(128, 128)\n",
    "        \n",
    "    def forward(self, x):\n",
    "        x = F.relu(self.lin1(x))\n",
    "        x = F.relu(self.hidden(x))\n",
    "        x = F.dropout(x, 0.5)\n",
    "        x = F.relu(self.lin2(x))\n",
    "        \n",
    "        return x\n",
    "    \n",
    "\n",
    "class PaliwalNet(torch.nn.Module):\n",
    "    def __init__(self, t):\n",
    "        super(PaliwalNet, self).__init__()\n",
    "        \n",
    "        self.embedding = Embedding(num_embeddings=len(distinct_features)+1, embedding_dim=embed_dim)\n",
    "        \n",
    "        self.MLP_V = BuildingBlock(embed_dim, 128)\n",
    "        self.MLP_E = BuildingBlock(1, 128)\n",
    "        \n",
    "        self.message_passing_steps = nn.ModuleList()\n",
    "        for i in range(t):\n",
    "            self.message_passing_steps.append(PaliwalMP(embed_dim, embed_dim))\n",
    "            \n",
    "        self.conv1 = nn.Conv1d(128, 512, (1,1))\n",
    "        self.conv2 = nn.Conv1d(512, 1024, (1,1))\n",
    "        \n",
    "        # FCNN for final prediction\n",
    "        self.lin1 = Linear(1024, 512)\n",
    "        self.lin2 = Linear(512, 512)\n",
    "        self.lin3 = Linear(512, 256)\n",
    "        self.lin4 = Linear(256, 256)\n",
    "        self.lin5 = Linear(256, 128)\n",
    "        self.lin6 = Linear(128, 1)\n",
    "\n",
    "  \n",
    "    def forward(self, data):\n",
    "        x, edge_index, edge_attr, batch = data.x, data.edge_index, data.edge_attr, data.batch\n",
    "        edge_index_u, edge_index_d = torch.split(edge_index, int(edge_index.shape[1]/2), dim=1)\n",
    "        edge_attr_u, edge_attr_d = torch.split(edge_attr, int(edge_attr.shape[0]/2))\n",
    "        \n",
    "        # Generate learnable embeddings for node features\n",
    "        x = x.squeeze(-1)\n",
    "        x = self.embedding(x)\n",
    "        \n",
    "        \n",
    "        # Embed node and edge features into high dimensional space\n",
    "        x = self.MLP_V(x)\n",
    "        edge_attr_u = self.MLP_E(edge_attr_u.float())\n",
    "        edge_attr_d = self.MLP_E(edge_attr_d.float())\n",
    "        \n",
    "        for message_passing_step in self.message_passing_steps:\n",
    "            x = message_passing_step(x, edge_index_u, edge_index_d, edge_attr_u, edge_attr_d)\n",
    "        \n",
    "#         x = x.unsqueeze(-1).unsqueeze(-1)\n",
    "#         x = self.conv1(x)\n",
    "#         x = self.conv2(x)\n",
    "#         print(x.detach().to('cpu').numpy())\n",
    "#         assert 1 == 2\n",
    "        \n",
    "        # Final prediction network\n",
    "#         g = x.squeeze(-1).squeeze(-1)\n",
    "        g = gmp(x, batch)\n",
    "        \n",
    "#         g = F.relu(self.lin1(g))\n",
    "#         g = F.relu(self.lin2(g))\n",
    "#         g = F.relu(self.lin3(g))\n",
    "#         g = F.relu(self.lin4(g))\n",
    "#         g = F.relu(self.lin5(g))\n",
    "        g = F.relu(self.lin6(g))\n",
    "        \n",
    "        return g"
   ]
  },
  {
   "cell_type": "markdown",
   "metadata": {},
   "source": [
    "# Data inspections"
   ]
  },
  {
   "cell_type": "code",
   "execution_count": 9,
   "metadata": {
    "scrolled": false
   },
   "outputs": [
    {
     "name": "stderr",
     "output_type": "stream",
     "text": [
      "100%|██████████| 10/10 [00:05<00:00,  1.78it/s]\n"
     ]
    }
   ],
   "source": [
    "new_data = True\n",
    "\n",
    "def get_data(binary=True, onl_)\n",
    "if new_data == True:\n",
    "    data = u.make_data(binary=binary, only_top=only_top)\n",
    "    with open('testing_dataset', 'wb') as outfile:\n",
    "        pickle.dump(data, outfile)\n",
    "else:\n",
    "    with open(EXPNAME, 'rb') as infile:\n",
    "        data = pickle.load(infile)\n",
    "        \n",
    "        \n",
    "data = data[10:25]"
   ]
  },
  {
   "cell_type": "code",
   "execution_count": 10,
   "metadata": {
    "scrolled": true
   },
   "outputs": [
    {
     "name": "stdout",
     "output_type": "stream",
     "text": [
      "0 / 15\n",
      "28\n"
     ]
    }
   ],
   "source": [
    "distinct_features = set()\n",
    "\n",
    "for idx, (thm, _) in enumerate(data):\n",
    "    if idx % 1000 == 0:\n",
    "        print(f'{idx} / {len(data)}')\n",
    "    thm = u.process_theorem(thm)\n",
    "    thm_tree, features = u.thm_to_tree(thm)\n",
    "    distinct_features = distinct_features.union(features)\n",
    "print(len(distinct_features))\n",
    "distinct_features = set(i for i in range(len(distinct_features)))"
   ]
  },
  {
   "cell_type": "code",
   "execution_count": 11,
   "metadata": {},
   "outputs": [],
   "source": [
    "dummy_test = False\n",
    "\n",
    "if dummy_test:\n",
    "    test_thm = '(fun (a A B) (a A (a A B)))'\n",
    "    print(test_thm)\n",
    "    thm = u.process_theorem(test_thm)\n",
    "    print(thm)\n",
    "    thm_tree, _ = u.thm_to_tree(thm)\n",
    "    print(len(thm_tree))\n",
    "    print(thm_tree.subtrees[0].parents[0])\n",
    "    thm_tree = u.merge_subexpressions(thm_tree)\n",
    "    x = u.graph_to_data(thm_tree)\n",
    "    print(x)\n",
    "\n",
    "    #print([t.root for t in thm_tree.subtrees[0].subtrees])\n",
    "\n",
    "\n",
    "    print(thm_tree.root)\n",
    "    print([t.root for t in thm_tree.subtrees])\n",
    "    t_0, t_1 = thm_tree.subtrees\n",
    "    print([t.root for t in t_0.subtrees])\n",
    "    print([t.root for t in t_1.subtrees])\n",
    "    print(t_1.subtrees[0].subtree_str)\n",
    "    print(len(thm_tree))"
   ]
  },
  {
   "cell_type": "code",
   "execution_count": 12,
   "metadata": {},
   "outputs": [
    {
     "name": "stdout",
     "output_type": "stream",
     "text": [
      "[(0, 13.333333333333334), (1, 86.66666666666667)]\n"
     ]
    }
   ],
   "source": [
    "get_data_distribution = True\n",
    "\n",
    "if get_data_distribution:\n",
    "    counter = dict()\n",
    "    for _, y in data:\n",
    "        if y in counter:\n",
    "            counter[y] += 1\n",
    "        else:\n",
    "            counter[y] = 1\n",
    "    counter = list(counter.items())\n",
    "    counter.sort(key=lambda x: x[0], reverse=False)\n",
    "    percentages = [(x, y/len(data)*100) for x,y in counter]\n",
    "    print(percentages)"
   ]
  },
  {
   "cell_type": "markdown",
   "metadata": {},
   "source": [
    "# New Train Function"
   ]
  },
  {
   "cell_type": "code",
   "execution_count": 13,
   "metadata": {},
   "outputs": [],
   "source": [
    "def train(model, data_loader, epoch, crit, optimizer, device, writer, len_dataset):\n",
    "    model.train()\n",
    "    loss_all = 0\n",
    "    \n",
    "    for i, data in enumerate(data_loader):\n",
    "        optimizer.zero_grad()\n",
    "        \n",
    "        data = data.to(device)\n",
    "        output = model(data)\n",
    "        label = torch.unsqueeze(data.y.to(device), 1).float()\n",
    "        \n",
    "        loss = crit(output, label)\n",
    "        loss.backward()\n",
    "        loss_all += data.num_graphs * loss.item()\n",
    "        loss.detach()\n",
    "        \n",
    "#         preds = output.data.max(1, keepdim=True)[1]\n",
    "\n",
    "        optimizer.step()\n",
    "    \n",
    "    writer.add_scalar('training loss',\n",
    "                     loss_all / len_dataset,\n",
    "                     epoch)\n",
    "    \n",
    "    \n",
    "    return loss_all / len(train_dataset), 0, output"
   ]
  },
  {
   "cell_type": "markdown",
   "metadata": {},
   "source": [
    "# New Evaluation Function"
   ]
  },
  {
   "cell_type": "code",
   "execution_count": 14,
   "metadata": {},
   "outputs": [],
   "source": [
    "def test(model, data_loader, epoch, crit, device, writer, len_dataset):\n",
    "    model.eval()\n",
    "    loss_all = 0\n",
    "    all_preds = None\n",
    "    all_labels = None\n",
    "    \n",
    "    for i, data in enumerate(data_loader):\n",
    "        data = data.to(device)\n",
    "        output = model(data)\n",
    "        label = torch.unsqueeze(data.y.to(device), 1).float()\n",
    "        if all_labels is not None:\n",
    "            all_labels = torch.cat([all_labels, label])\n",
    "        else:\n",
    "            all_labels = label\n",
    "        \n",
    "        loss = crit(output, label)\n",
    "        loss_all += data.num_graphs * loss.item()\n",
    "        loss.detach()\n",
    "#         preds = output.data.max(1, keepdim=True)[1]\n",
    "        \n",
    "        if all_preds is not None:\n",
    "            all_preds = torch.cat([all_preds, output])\n",
    "        else:\n",
    "            all_preds = output\n",
    "    \n",
    "    writer.add_scalar('validation loss',\n",
    "                     loss_all / len_dataset,\n",
    "                     epoch)\n",
    "    \n",
    "    all_preds, all_labels = all_preds.to('cpu'), all_labels.to('cpu')\n",
    "    \n",
    "    return loss_all / len(valid_dataset), 0, output, all_preds.detach().numpy(), all_labels.detach().numpy()"
   ]
  },
  {
   "cell_type": "code",
   "execution_count": 15,
   "metadata": {},
   "outputs": [],
   "source": [
    "# device = 'cuda'\n",
    "# pnet = PaliwalNet(t=1).to(device)\n",
    "# train_loader = DataLoader(train_dataset, batch_size=16, shuffle=False, num_workers=1)\n",
    "\n",
    "\n",
    "# for i, data in enumerate(train_loader):\n",
    "#     data = data.to(device)\n",
    "#     pnet(data)\n",
    "#     break\n"
   ]
  },
  {
   "cell_type": "markdown",
   "metadata": {},
   "source": [
    "# New general 'train_model' function which handles full training"
   ]
  },
  {
   "cell_type": "code",
   "execution_count": 16,
   "metadata": {},
   "outputs": [],
   "source": [
    "def train_model(model, \n",
    "                train_dataset,\n",
    "                valid_dataset,\n",
    "                crit, \n",
    "                optimizer, \n",
    "                lr, \n",
    "                experiment_label,\n",
    "                momentum=0.8,\n",
    "                device='cpu', \n",
    "                n_epochs=100, \n",
    "                batch_size=16, \n",
    "                n_workers=8,\n",
    "                shuffle_data=True):\n",
    "    \n",
    "    writer = SummaryWriter(f'runs/{experiment_label}')\n",
    "    \n",
    "    model = model.to(device)\n",
    "    optimizer = optimizer(model.parameters(), lr=lr, momentum=momentum)\n",
    "    \n",
    "    train_loader = DataLoader(train_dataset, batch_size=batch_size, shuffle=shuffle_data, num_workers=n_workers)\n",
    "    valid_loader = DataLoader(valid_dataset, batch_size=batch_size, shuffle=shuffle_data, num_workers=n_workers)\n",
    "    \n",
    "    \n",
    "    # Run initial pass through validation loop\n",
    "    valid_loss, valid_acc, predictions, *_ = test(model, valid_loader, 0, crit, device, writer, len(valid_dataset))\n",
    "    best_acc = valid_acc\n",
    "    valid_losses, valid_accuracies = [valid_loss], [valid_acc]\n",
    "    train_losses, train_accuracies = [], []\n",
    "    \n",
    "    # Train for n_epochs\n",
    "    for epoch in tqdm(range(n_epochs)):\n",
    "        epoch_loss, epoch_acc, predictions = train(model, train_loader, epoch, crit, optimizer, device, writer, len(train_dataset))\n",
    "        train_losses.append(epoch_loss)\n",
    "        train_accuracies.append(epoch_acc)\n",
    "        \n",
    "        # Every 10 epochs, run through a validation loop\n",
    "        if epoch % 9 == 0:\n",
    "            valid_loss, valid_acc, predictions, preds, labels = test(model, valid_loader, epoch, crit, device, writer, len(valid_dataset))\n",
    "            valid_losses.append(valid_loss)\n",
    "            valid_accuracies.append(valid_acc)\n",
    "            \n",
    "            # Record the highest observed validation accuracy\n",
    "            if valid_acc > best_acc:\n",
    "                save_model(model, f'models/{experiment_label}_best_valid_acc_epoch_{epoch}')\n",
    "                \n",
    "#             print(preds, labels)\n",
    "            df = pd.DataFrame(data={'Predictions': [preds], 'Labels': [labels]})\n",
    "#             df.to_csv(f'pp_{experiment_label}_epoch_{epoch}')\n",
    "#             ax = sns.regplot(x='Predictions', y='labels', data=df)\n",
    "    \n",
    "    \n",
    "    # Output loss/acc stats to csv\n",
    "    validation_stats = np.array([valid_losses, valid_accuracies])\n",
    "    training_stats = np.array([train_losses, train_accuracies])\n",
    "    np.savetxt(f'stats/{experiment_label}_validation_stats.csv', validation_stats, delimiter=',')\n",
    "    np.savetxt(f'stats/{experiment_label}_training_stats.csv', training_stats, delimiter=',')\n",
    "    "
   ]
  },
  {
   "cell_type": "code",
   "execution_count": 17,
   "metadata": {},
   "outputs": [
    {
     "name": "stdout",
     "output_type": "stream",
     "text": [
      "5\n"
     ]
    },
    {
     "name": "stderr",
     "output_type": "stream",
     "text": [
      " 63%|██████▎   | 63/100 [00:53<00:28,  1.31it/s]Exception ignored in: <function _releaseLock at 0x7f58bc4fae60>\n",
      "Traceback (most recent call last):\n",
      "  File \"/opt/anaconda3/envs/henry/lib/python3.7/logging/__init__.py\", line 221, in _releaseLock\n",
      "    def _releaseLock():\n",
      "KeyboardInterrupt\n",
      "100%|██████████| 100/100 [01:24<00:00,  1.19it/s]\n"
     ]
    }
   ],
   "source": [
    "dataset = TopLevelProofDataset()\n",
    "dataset.shuffle()\n",
    "\n",
    "train_dataset = dataset[:2*floor(len(dataset)/3)]\n",
    "valid_dataset = dataset[2*floor(len(dataset)/3):]\n",
    "print(len(valid_dataset))\n",
    "\n",
    "train_model(model=PaliwalNet(t=4),\n",
    "           train_dataset=train_dataset,\n",
    "           valid_dataset=valid_dataset,\n",
    "           crit=F.mse_loss,\n",
    "           optimizer=torch.optim.SGD,\n",
    "           lr=0.005,\n",
    "           momentum=0.8,\n",
    "           experiment_label='testing_new_functional_training',\n",
    "           device='cuda:1',\n",
    "           n_epochs=100,\n",
    "           batch_size=2,\n",
    "           n_workers=1,\n",
    "           shuffle_data=False)"
   ]
  },
  {
   "cell_type": "code",
   "execution_count": 18,
   "metadata": {},
   "outputs": [
    {
     "ename": "AssertionError",
     "evalue": "",
     "output_type": "error",
     "traceback": [
      "\u001b[0;31m---------------------------------------------------------------------------\u001b[0m",
      "\u001b[0;31mAssertionError\u001b[0m                            Traceback (most recent call last)",
      "\u001b[0;32m<ipython-input-18-ce781a32d075>\u001b[0m in \u001b[0;36m<module>\u001b[0;34m\u001b[0m\n\u001b[0;32m----> 1\u001b[0;31m \u001b[0;32massert\u001b[0m \u001b[0;36m1\u001b[0m \u001b[0;34m==\u001b[0m \u001b[0;36m2\u001b[0m\u001b[0;34m\u001b[0m\u001b[0;34m\u001b[0m\u001b[0m\n\u001b[0m",
      "\u001b[0;31mAssertionError\u001b[0m: "
     ]
    }
   ],
   "source": [
    "assert 1 == 2"
   ]
  },
  {
   "cell_type": "code",
   "execution_count": null,
   "metadata": {},
   "outputs": [],
   "source": [
    "m = load_model(Net, 'bug_fix.pth')\n",
    "m"
   ]
  },
  {
   "cell_type": "code",
   "execution_count": null,
   "metadata": {},
   "outputs": [],
   "source": [
    "a = torch.tensor([[10,25,36,47], [11, 10, 50, 1]])\n",
    "print(a)\n",
    "c = gmp(a)"
   ]
  },
  {
   "cell_type": "code",
   "execution_count": null,
   "metadata": {},
   "outputs": [],
   "source": []
  }
 ],
 "metadata": {
  "kernelspec": {
   "display_name": "Python 3",
   "language": "python",
   "name": "python3"
  },
  "language_info": {
   "codemirror_mode": {
    "name": "ipython",
    "version": 3
   },
   "file_extension": ".py",
   "mimetype": "text/x-python",
   "name": "python",
   "nbconvert_exporter": "python",
   "pygments_lexer": "ipython3",
   "version": "3.7.7"
  }
 },
 "nbformat": 4,
 "nbformat_minor": 4
}
