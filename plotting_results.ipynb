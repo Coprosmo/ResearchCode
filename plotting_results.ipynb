{
 "cells": [
  {
   "cell_type": "code",
   "execution_count": null,
   "metadata": {},
   "outputs": [],
   "source": [
    "import pandas as pd\n",
    "import numpy as np\n",
    "import seaborn as sns\n",
    "import matplotlib.pyplot as plt"
   ]
  },
  {
   "cell_type": "code",
   "execution_count": null,
   "metadata": {},
   "outputs": [],
   "source": [
    "def threshold(df):\n",
    "    df2 = df.copy()\n",
    "    df2.loc[df2.Predictions < 0.5, 'Predictions'] = 0\n",
    "    df2.loc[df2.Predictions >= 0.5, 'Predictions'] = 1\n",
    "    return df2"
   ]
  },
  {
   "cell_type": "code",
   "execution_count": null,
   "metadata": {},
   "outputs": [],
   "source": [
    "def prec_rec(df):\n",
    "    TP = df.loc[(df.Predictions == 1) & (df.Labels == 1)].shape[0]\n",
    "    TN = df.loc[(df.Predictions == 0) & (df.Labels == 0)].shape[0]\n",
    "    FP = df.loc[(df.Predictions == 1) & (df.Labels == 0)].shape[0]\n",
    "    FN = df.loc[(df.Predictions == 0) & (df.Labels == 1)].shape[0]\n",
    "    \n",
    "    try:\n",
    "        precision_1 = (TP)/(TP + FP)\n",
    "    except:\n",
    "        precision_1 = 0\n",
    "    try:\n",
    "        recall_1 = (TP)/(TP + FN)\n",
    "    except:\n",
    "        recall_1 = 0\n",
    "    \n",
    "    precision_0 = (TN)/(TN + FN)\n",
    "    recall_0 = (TN)/(TN + FP)\n",
    "    \n",
    "    return precision_0, recall_0, precision_1, recall_1, TP, TN, FP, FN"
   ]
  },
  {
   "cell_type": "markdown",
   "metadata": {},
   "source": [
    "# Graph predicted values vs targets"
   ]
  },
  {
   "cell_type": "code",
   "execution_count": null,
   "metadata": {},
   "outputs": [],
   "source": [
    "# df1 = pd.read_csv('plotting/pp_BSu_4_quicktest_epoch_4')\n",
    "# df2 = pd.read_csv('plotting/pp_BSu_4_quicktest_epoch_9')\n",
    "# df3 = pd.read_csv('plotting/pp_BSu_4_quicktest_epoch_19')\n",
    "# df4 = pd.read_csv('plotting/pp_BSu_4_quicktest_epoch_29')\n",
    "# df1['epoch'] = 5\n",
    "# df2['epoch'] = 10\n",
    "# df3['epoch'] = 20\n",
    "# df4['epoch'] = 30\n",
    "\n",
    "df1 = pd.read_csv('plotting/BSu_4_revamped_again_b_epoch_5')\n",
    "df2 = pd.read_csv('plotting/BSu_4_revamped_again_b_epoch_10')\n",
    "df3 = pd.read_csv('plotting/BSu_4_revamped_again_b_epoch_20')\n",
    "df4 = pd.read_csv('plotting/BSu_4_revamped_again_b_epoch_30')\n",
    "df5 = pd.read_csv('plotting/BSu_4_revamped_again_b_epoch_150')\n",
    "\n",
    "\n",
    "rdf4 = df4.loc[(df4.Predictions < 0.3) | (df4.Predictions > 0.7)]\n",
    "rdf5 = df5.loc[(df5.Predictions < 0.3) | (df5.Predictions > 0.7)]\n",
    "\n",
    "# df1 = pd.read_csv('plotting/Bu_4_BSu_revamped_a_epoch_15')\n",
    "# df2 = pd.read_csv('plotting/Bu_4_BSu_revamped_a_epoch_95')\n",
    "\n",
    "\n",
    "df_low_epoch = pd.concat([df1, df2])\n",
    "df_high_epoch = pd.concat([df3, df4])\n",
    "df_higher_epochs = pd.concat([df4, df5])\n",
    "\n",
    "sns.catplot(x='Labels', y='Predictions', hue='epoch', kind='box', data=df1)\n",
    "sns.catplot(x='Labels', y='Predictions', hue='epoch', kind='box', data=df2)\n",
    "sns.catplot(x='Labels', y='Predictions', hue='epoch', kind='box', data=df_high_epoch)\n",
    "sns.catplot(x='Labels', y='Predictions', hue='epoch', kind='box', data=df_higher_epochs)"
   ]
  },
  {
   "cell_type": "code",
   "execution_count": null,
   "metadata": {},
   "outputs": [],
   "source": [
    "tdf1 = threshold(df1)\n",
    "tdf2 = threshold(df2)\n",
    "tdf3 = threshold(df3)\n",
    "tdf4 = threshold(df4)\n",
    "tdf5 = threshold(df5)\n",
    "rdtf4 = threshold(rdf4)\n",
    "rdtf5 = threshold(rdf5)\n",
    "\n",
    "for tdf in [tdf1, tdf2, tdf3, tdf4, tdf5, rdtf4, rdtf5]:\n",
    "    p0, r0, p1, r1, TP, TN, FP, FN = prec_rec(tdf)\n",
    "\n",
    "    confusion_matrix = np.array([[TN, FN],[FP, TP]])\n",
    "    print('Confusion Matrix:')\n",
    "    print(confusion_matrix)\n",
    "    print('\\nLabel 0:')\n",
    "    print(f'Precision: {p0}, Recall: {r0}')\n",
    "    print('\\nLabel 1:')\n",
    "    print(f'Precision: {p1}, Recall: {r1}\\n\\n')"
   ]
  },
  {
   "cell_type": "code",
   "execution_count": null,
   "metadata": {},
   "outputs": [],
   "source": []
  }
 ],
 "metadata": {
  "kernelspec": {
   "display_name": "Python 3",
   "language": "python",
   "name": "python3"
  },
  "language_info": {
   "codemirror_mode": {
    "name": "ipython",
    "version": 3
   },
   "file_extension": ".py",
   "mimetype": "text/x-python",
   "name": "python",
   "nbconvert_exporter": "python",
   "pygments_lexer": "ipython3",
   "version": "3.8.5"
  }
 },
 "nbformat": 4,
 "nbformat_minor": 4
}
