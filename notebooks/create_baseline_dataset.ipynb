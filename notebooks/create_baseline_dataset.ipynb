{
 "cells": [
  {
   "cell_type": "code",
   "execution_count": null,
   "metadata": {},
   "outputs": [],
   "source": [
    "import utilities as u\n",
    "import pandas as pd\n",
    "from tqdm import tqdm"
   ]
  },
  {
   "cell_type": "code",
   "execution_count": null,
   "metadata": {},
   "outputs": [],
   "source": [
    "def get_features(datum):\n",
    "    processed_datum = u.process_theorem(datum)\n",
    "    unbracketted_datum = [x for x in processed_datum if x not in ['(', ')']]\n",
    "    n_nodes = len(unbracketted_datum)\n",
    "    n_funs = len([x for x in unbracketted_datum if x == 'fun'])\n",
    "    n_lambdas = len([x for x in unbracketted_datum if x == 'l'])\n",
    "    n_applications = len([x for x in unbracketted_datum if x == 'a'])\n",
    "    n_vars = len([x for x in unbracketted_datum if x == 'v'])\n",
    "    n_constants = len([x for x in unbracketted_datum if x == 'c'])\n",
    "    n_distinct_features = len(set(unbracketted_datum))\n",
    "    \n",
    "    tree, _ = u.thm_to_tree(u.process_theorem(datum), True)\n",
    "    n_nodes_merged = len(u.merge_subexpressions(tree))\n",
    "    \n",
    "    return n_nodes, n_nodes_merged, n_distinct_features, n_funs, n_lambdas, n_applications, n_vars, n_constants"
   ]
  },
  {
   "cell_type": "code",
   "execution_count": null,
   "metadata": {},
   "outputs": [],
   "source": [
    "def make_dataset(binary):\n",
    "    dataset = {'nodes': [],\n",
    "                  'nodes_merged': [],\n",
    "                  'distinct_features': [],\n",
    "                  'functions': [],\n",
    "                  'lambdas': [],\n",
    "                  'applications': [],\n",
    "                  'variables': [],\n",
    "                  'constants': [],\n",
    "                  'target': []}\n",
    "    \n",
    "    data = u.make_data(binary=binary, only_top=False)\n",
    "    data_dict = dict()\n",
    "    for thm, y in data:\n",
    "        if thm in data_dict.keys():\n",
    "            data_dict[thm] = min(data_dict[thm], y)\n",
    "        else:\n",
    "            data_dict[thm] = y\n",
    "    data = [(t,y) for t,y in data_dict.items()]\n",
    "    \n",
    "    if binary:\n",
    "        data_0 = [(t,y) for t,y in data if y == 0]\n",
    "        data_1 = [(t,y) for t,y in data if y == 1]\n",
    "        min_len = min(len(data_0), len(data_1))\n",
    "        data_0 = [(t,y) for t,y in data_0[:min_len]]\n",
    "        data_1 = [(t,y) for t,y in data_1[:min_len]]\n",
    "        data = data_0 + data_1\n",
    "\n",
    "    print(len(data))\n",
    "    for thm, length in tqdm(data):\n",
    "        features = get_features(thm)\n",
    "        dataset['nodes'].append(features[0])\n",
    "        dataset['nodes_merged'].append(features[1])\n",
    "        dataset['distinct_features'].append(features[2])\n",
    "        dataset['functions'].append(features[3])\n",
    "        dataset['lambdas'].append(features[4])\n",
    "        dataset['applications'].append(features[5])\n",
    "        dataset['variables'].append(features[6])\n",
    "        dataset['constants'].append(features[7])\n",
    "        dataset['target'].append(length)\n",
    "        \n",
    "    df = pd.DataFrame(data=dataset)\n",
    "    return df"
   ]
  },
  {
   "cell_type": "code",
   "execution_count": null,
   "metadata": {},
   "outputs": [],
   "source": [
    "dataset = make_dataset(binary=True)"
   ]
  },
  {
   "cell_type": "code",
   "execution_count": null,
   "metadata": {},
   "outputs": [],
   "source": [
    "dataset.head(50)"
   ]
  },
  {
   "cell_type": "code",
   "execution_count": null,
   "metadata": {},
   "outputs": [],
   "source": [
    "# multiclass_dataset = make_dataset(binary=False)\n",
    "# multiclass_dataset.head(50)"
   ]
  },
  {
   "cell_type": "code",
   "execution_count": null,
   "metadata": {},
   "outputs": [],
   "source": [
    "dataset.to_csv('binary_baseline.dataset', index=False)\n",
    "# multiclass_dataset.to_csv('multiclass_baseline.dataset', index=False)"
   ]
  },
  {
   "cell_type": "code",
   "execution_count": null,
   "metadata": {},
   "outputs": [],
   "source": []
  },
  {
   "cell_type": "code",
   "execution_count": null,
   "metadata": {},
   "outputs": [],
   "source": []
  }
 ],
 "metadata": {
  "kernelspec": {
   "display_name": "Python 3",
   "language": "python",
   "name": "python3"
  },
  "language_info": {
   "codemirror_mode": {
    "name": "ipython",
    "version": 3
   },
   "file_extension": ".py",
   "mimetype": "text/x-python",
   "name": "python",
   "nbconvert_exporter": "python",
   "pygments_lexer": "ipython3",
   "version": "3.7.7"
  }
 },
 "nbformat": 4,
 "nbformat_minor": 4
}
